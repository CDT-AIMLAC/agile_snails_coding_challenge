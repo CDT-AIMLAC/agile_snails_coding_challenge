{
 "cells": [
  {
   "cell_type": "markdown",
   "id": "6fe782d7",
   "metadata": {},
   "source": [
    "# Example data"
   ]
  },
  {
   "cell_type": "code",
   "execution_count": 1,
   "id": "badb30c6",
   "metadata": {},
   "outputs": [],
   "source": [
    "from sjautobidder.building_demand.energy_demand import get_energy_demand"
   ]
  },
  {
   "cell_type": "code",
   "execution_count": 2,
   "id": "ff821cae",
   "metadata": {},
   "outputs": [],
   "source": [
    "data_dict = get_energy_demand()"
   ]
  },
  {
   "cell_type": "markdown",
   "id": "fe21cf68",
   "metadata": {},
   "source": [
    "# Convert dataframe to dict for mongo database"
   ]
  },
  {
   "cell_type": "code",
   "execution_count": 3,
   "id": "8bb66234",
   "metadata": {},
   "outputs": [],
   "source": [
    "from sjautobidder.utils.panda_utils import df_to_dict"
   ]
  },
  {
   "cell_type": "code",
   "execution_count": 4,
   "id": "0a6d7795",
   "metadata": {},
   "outputs": [],
   "source": [
    "data_dict = df_to_dict(data_dict)"
   ]
  },
  {
   "cell_type": "markdown",
   "id": "2322fd50",
   "metadata": {},
   "source": [
    "# Insert one dict into the mongo database\n",
    "Make sure the docker container is running (```docker-compose up --build -d```)"
   ]
  },
  {
   "cell_type": "code",
   "execution_count": 5,
   "id": "41b6df29",
   "metadata": {},
   "outputs": [],
   "source": [
    "import datetime\n",
    "from sjautobidder.utils.mongo_utils import mongo_insert_one#"
   ]
  },
  {
   "cell_type": "code",
   "execution_count": 6,
   "id": "97a5e395",
   "metadata": {},
   "outputs": [
    {
     "data": {
      "text/plain": [
       "True"
      ]
     },
     "execution_count": 6,
     "metadata": {},
     "output_type": "execute_result"
    }
   ],
   "source": [
    "datetime_calculated = datetime.datetime.now().strftime(\"%Y-%m-%dT%H:%M:%SZ\") # This is the ID\n",
    "mongo_data = {\"datetime_calculated\": datetime_calculated, \"data\": data_dict}\n",
    "mongo_insert_one(\"building_demand\", mongo_data) # Returns True if successful"
   ]
  },
  {
   "cell_type": "markdown",
   "id": "3483dc16",
   "metadata": {},
   "source": [
    "# Pull the data from the mongo database"
   ]
  },
  {
   "cell_type": "code",
   "execution_count": 7,
   "id": "fbd72ef9",
   "metadata": {},
   "outputs": [],
   "source": [
    "from sjautobidder.utils.mongo_utils import mongo_find, mongo_find_one"
   ]
  },
  {
   "cell_type": "markdown",
   "id": "20c256f2",
   "metadata": {},
   "source": [
    "### Find one result"
   ]
  },
  {
   "cell_type": "code",
   "execution_count": 8,
   "id": "63b5e5a2",
   "metadata": {},
   "outputs": [
    {
     "name": "stdout",
     "output_type": "stream",
     "text": [
      "Data from above was found succesfully using mongo_find_one()!\n"
     ]
    }
   ],
   "source": [
    "find_one_result = mongo_find_one(\n",
    "    collection_name =\"building_demand\", \n",
    "    query = {\"datetime_calculated\": datetime_calculated}\n",
    ")\n",
    "if find_one_result != None:\n",
    "    print(\"Data from above was found succesfully using mongo_find_one()!\")"
   ]
  },
  {
   "cell_type": "markdown",
   "id": "dd05e201",
   "metadata": {},
   "source": [
    "### Find (potentially multiple) results"
   ]
  },
  {
   "cell_type": "code",
   "execution_count": 9,
   "id": "7fe4ec68",
   "metadata": {},
   "outputs": [
    {
     "name": "stdout",
     "output_type": "stream",
     "text": [
      "Data from above was found succesfully using mongo_find()!\n"
     ]
    }
   ],
   "source": [
    "find_result = mongo_find(\n",
    "    collection_name =\"building_demand\", \n",
    "    query = {\"datetime_calculated\": datetime_calculated}\n",
    ")\n",
    "if len(find_result) != 0:\n",
    "    print(\"Data from above was found succesfully using mongo_find()!\")"
   ]
  }
 ],
 "metadata": {
  "kernelspec": {
   "display_name": "Python 3 (ipykernel)",
   "language": "python",
   "name": "python3"
  },
  "language_info": {
   "codemirror_mode": {
    "name": "ipython",
    "version": 3
   },
   "file_extension": ".py",
   "mimetype": "text/x-python",
   "name": "python",
   "nbconvert_exporter": "python",
   "pygments_lexer": "ipython3",
   "version": "3.8.10"
  }
 },
 "nbformat": 4,
 "nbformat_minor": 5
}
