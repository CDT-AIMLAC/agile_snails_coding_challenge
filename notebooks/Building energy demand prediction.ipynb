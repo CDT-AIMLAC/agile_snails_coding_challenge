{
 "cells": [
  {
   "cell_type": "code",
   "execution_count": 1,
   "id": "multiple-accommodation",
   "metadata": {},
   "outputs": [],
   "source": [
    "from building_demand.energy_demand import get_energy_demand"
   ]
  },
  {
   "cell_type": "code",
   "execution_count": 2,
   "id": "flying-airport",
   "metadata": {},
   "outputs": [
    {
     "name": "stdout",
     "output_type": "stream",
     "text": [
      "[320. 200. 200. 200. 200. 200. 200. 200. 200. 200. 200. 200. 200. 200.\n",
      " 200. 200. 200. 200. 200. 200. 200. 200. 200. 200. 200. 200. 200. 200.\n",
      " 200. 200. 200. 200. 320. 320. 320. 320. 320. 320. 320. 320. 320. 320.\n",
      " 320. 320. 320. 320. 320. 320.]\n"
     ]
    }
   ],
   "source": [
    "energy_demand = get_energy_demand()\n",
    "print(energy_demand)"
   ]
  },
  {
   "cell_type": "code",
   "execution_count": null,
   "id": "answering-realtor",
   "metadata": {},
   "outputs": [],
   "source": []
  }
 ],
 "metadata": {
  "kernelspec": {
   "display_name": "Python 3",
   "language": "python",
   "name": "python3"
  },
  "language_info": {
   "codemirror_mode": {
    "name": "ipython",
    "version": 3
   },
   "file_extension": ".py",
   "mimetype": "text/x-python",
   "name": "python",
   "nbconvert_exporter": "python",
   "pygments_lexer": "ipython3",
   "version": "3.9.2"
  }
 },
 "nbformat": 4,
 "nbformat_minor": 5
}
