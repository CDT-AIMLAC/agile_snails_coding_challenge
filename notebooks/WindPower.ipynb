{
 "cells": [
  {
   "cell_type": "code",
   "execution_count": 1,
   "metadata": {},
   "outputs": [],
   "source": [
    "import numpy as np\n",
    "import matplotlib.pyplot as plt\n",
    "import math\n",
    "import pandas as pd"
   ]
  },
  {
   "cell_type": "code",
   "execution_count": 4,
   "metadata": {},
   "outputs": [],
   "source": [
    "def wind_power(x):\n",
    "    y=-0.01825*(x**3)-0.0265*(x**2)+11.13*x-42.03\n",
    "    return y"
   ]
  },
  {
   "cell_type": "code",
   "execution_count": 5,
   "metadata": {},
   "outputs": [],
   "source": [
    "def plot_power(v,p):\n",
    "    plt.plot(v,p)\n",
    "    plt.xlabel('Wind Speed (m/s)')\n",
    "    plt.ylabel('Power (kW)')"
   ]
  },
  {
   "cell_type": "code",
   "execution_count": 6,
   "metadata": {},
   "outputs": [],
   "source": [
    "v=[] #where wind speed data needs to be inputted\n",
    "power=[]\n",
    "for i in range(len(v)):\n",
    "    if v[i]<4:\n",
    "        po=0\n",
    "        power.append(po)\n",
    "    elif v[i]>25:\n",
    "        po=0\n",
    "        power.append(po)\n",
    "    elif 14<v[i]<26:\n",
    "        po=wind_power(14)\n",
    "        power.append(po)\n",
    "    else:\n",
    "        po=wind_power(v[i])\n",
    "        power.append(po)"
   ]
  },
  {
   "cell_type": "code",
   "execution_count": 7,
   "metadata": {},
   "outputs": [
    {
     "data": {
      "image/png": "[encoded data removed]",
      "text/plain": [
       "<Figure size 432x288 with 1 Axes>"
      ]
     },
     "metadata": {
      "needs_background": "light"
     },
     "output_type": "display_data"
    }
   ],
   "source": [
    "plot_power(v,power)"
   ]
  },
  {
   "cell_type": "code",
   "execution_count": null,
   "metadata": {},
   "outputs": [],
   "source": []
  }
 ],
 "metadata": {
  "kernelspec": {
   "display_name": "Python 3",
   "language": "python",
   "name": "python3"
  },
  "language_info": {
   "codemirror_mode": {
    "name": "ipython",
    "version": 3
   },
   "file_extension": ".py",
   "mimetype": "text/x-python",
   "name": "python",
   "nbconvert_exporter": "python",
   "pygments_lexer": "ipython3",
   "version": "3.8.3"
  }
 },
 "nbformat": 4,
 "nbformat_minor": 4
}
